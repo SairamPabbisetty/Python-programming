{
 "cells": [
  {
   "cell_type": "code",
   "execution_count": 1,
   "id": "fce49779",
   "metadata": {},
   "outputs": [
    {
     "name": "stdout",
     "output_type": "stream",
     "text": [
      "[10, 'Arjun', 'M']\n"
     ]
    }
   ],
   "source": [
    "# list Slicing\n",
    "student = [10, 'Arjun', 'M', 50, 55, 62, 74, 66]\n",
    "print(student[0:3:1])"
   ]
  },
  {
   "cell_type": "code",
   "execution_count": 2,
   "id": "3bfef710",
   "metadata": {},
   "outputs": [
    {
     "name": "stdout",
     "output_type": "stream",
     "text": [
      "[10, 'M', 55]\n"
     ]
    }
   ],
   "source": [
    "print(student[0:6:2])"
   ]
  },
  {
   "cell_type": "code",
   "execution_count": 3,
   "id": "8c34185f",
   "metadata": {},
   "outputs": [
    {
     "name": "stdout",
     "output_type": "stream",
     "text": [
      "[10, 'Arjun', 'M']\n"
     ]
    }
   ],
   "source": [
    "print(student[:3:])"
   ]
  },
  {
   "cell_type": "code",
   "execution_count": 4,
   "id": "fbea48f0",
   "metadata": {},
   "outputs": [
    {
     "name": "stdout",
     "output_type": "stream",
     "text": [
      "[10, 'Arjun', 'M', 50, 55, 62, 74, 66]\n"
     ]
    }
   ],
   "source": [
    "print(student[::])"
   ]
  },
  {
   "cell_type": "code",
   "execution_count": 8,
   "id": "76832d37",
   "metadata": {},
   "outputs": [
    {
     "name": "stdout",
     "output_type": "stream",
     "text": [
      "student name : Arjun\n"
     ]
    }
   ],
   "source": [
    "print('student name : %s' %(student[1]))"
   ]
  },
  {
   "cell_type": "code",
   "execution_count": null,
   "id": "41d03fbf",
   "metadata": {},
   "outputs": [],
   "source": []
  }
 ],
 "metadata": {
  "kernelspec": {
   "display_name": "Python 3 (ipykernel)",
   "language": "python",
   "name": "python3"
  },
  "language_info": {
   "codemirror_mode": {
    "name": "ipython",
    "version": 3
   },
   "file_extension": ".py",
   "mimetype": "text/x-python",
   "name": "python",
   "nbconvert_exporter": "python",
   "pygments_lexer": "ipython3",
   "version": "3.9.7"
  }
 },
 "nbformat": 4,
 "nbformat_minor": 5
}
