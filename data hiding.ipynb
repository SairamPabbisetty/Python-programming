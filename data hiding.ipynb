{
 "cells": [
  {
   "cell_type": "code",
   "execution_count": 1,
   "id": "b165f068",
   "metadata": {},
   "outputs": [
    {
     "ename": "AttributeError",
     "evalue": "type object 'person' has no attribute '__count'",
     "output_type": "error",
     "traceback": [
      "\u001b[1;31m---------------------------------------------------------------------------\u001b[0m",
      "\u001b[1;31mAttributeError\u001b[0m                            Traceback (most recent call last)",
      "\u001b[1;32m~\\AppData\\Local\\Temp/ipykernel_9012/1572805731.py\u001b[0m in \u001b[0;36m<module>\u001b[1;34m\u001b[0m\n\u001b[0;32m      6\u001b[0m \u001b[0mp\u001b[0m \u001b[1;33m=\u001b[0m \u001b[0mperson\u001b[0m\u001b[1;33m(\u001b[0m\u001b[1;33m)\u001b[0m\u001b[1;33m\u001b[0m\u001b[1;33m\u001b[0m\u001b[0m\n\u001b[0;32m      7\u001b[0m \u001b[0mq\u001b[0m \u001b[1;33m=\u001b[0m \u001b[0mperson\u001b[0m\u001b[1;33m(\u001b[0m\u001b[1;33m)\u001b[0m\u001b[1;33m\u001b[0m\u001b[1;33m\u001b[0m\u001b[0m\n\u001b[1;32m----> 8\u001b[1;33m \u001b[0mprint\u001b[0m\u001b[1;33m(\u001b[0m\u001b[0mperson\u001b[0m\u001b[1;33m.\u001b[0m\u001b[0m__count\u001b[0m\u001b[1;33m)\u001b[0m\u001b[1;33m\u001b[0m\u001b[1;33m\u001b[0m\u001b[0m\n\u001b[0m",
      "\u001b[1;31mAttributeError\u001b[0m: type object 'person' has no attribute '__count'"
     ]
    }
   ],
   "source": [
    "class person :\n",
    "    __count = 0\n",
    "    def __init__(self) :\n",
    "        person.__count = person.__count + 1\n",
    "        \n",
    "p = person()\n",
    "q = person()\n",
    "print(person.__count)"
   ]
  },
  {
   "cell_type": "code",
   "execution_count": 3,
   "id": "5b93c722",
   "metadata": {},
   "outputs": [
    {
     "name": "stdout",
     "output_type": "stream",
     "text": [
      "1\n",
      "2\n"
     ]
    }
   ],
   "source": [
    "class person :\n",
    "    __count = 0\n",
    "    def __init__(self) :\n",
    "        person.__count = person.__count + 1\n",
    "    def display(self) :\n",
    "        print(person.__count)\n",
    "        \n",
    "p = person()\n",
    "p.display()\n",
    "q = person()\n",
    "q.display()"
   ]
  },
  {
   "cell_type": "code",
   "execution_count": 4,
   "id": "909a1853",
   "metadata": {},
   "outputs": [
    {
     "name": "stdout",
     "output_type": "stream",
     "text": [
      "2\n",
      "2\n"
     ]
    }
   ],
   "source": [
    "class person :\n",
    "    __count = 0\n",
    "    def __init__(self) :\n",
    "        person.__count = person.__count + 1\n",
    "    def display(self) :\n",
    "        print(person.__count)\n",
    "        \n",
    "p = person()\n",
    "q = person()\n",
    "p.display()\n",
    "q.display()"
   ]
  },
  {
   "cell_type": "code",
   "execution_count": 5,
   "id": "819cf5ed",
   "metadata": {},
   "outputs": [
    {
     "name": "stdout",
     "output_type": "stream",
     "text": [
      "2\n",
      "2\n"
     ]
    }
   ],
   "source": [
    "class person :\n",
    "    _count = 0\n",
    "    def __init__(self) :\n",
    "        person._count = person._count + 1\n",
    "    def display(self) :\n",
    "        print(person._count)\n",
    "        \n",
    "p = person()\n",
    "q = person()\n",
    "p.display()\n",
    "q.display()"
   ]
  },
  {
   "cell_type": "code",
   "execution_count": null,
   "id": "59b8ee5e",
   "metadata": {},
   "outputs": [],
   "source": []
  }
 ],
 "metadata": {
  "kernelspec": {
   "display_name": "Python 3 (ipykernel)",
   "language": "python",
   "name": "python3"
  },
  "language_info": {
   "codemirror_mode": {
    "name": "ipython",
    "version": 3
   },
   "file_extension": ".py",
   "mimetype": "text/x-python",
   "name": "python",
   "nbconvert_exporter": "python",
   "pygments_lexer": "ipython3",
   "version": "3.9.7"
  }
 },
 "nbformat": 4,
 "nbformat_minor": 5
}
