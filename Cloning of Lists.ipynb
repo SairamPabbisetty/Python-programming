{
 "cells": [
  {
   "cell_type": "code",
   "execution_count": 1,
   "id": "7e6a52a3",
   "metadata": {},
   "outputs": [
    {
     "name": "stdout",
     "output_type": "stream",
     "text": [
      "[1, 2, 3, 4, 5]\n",
      "[1, 2, 3, 4, 5]\n"
     ]
    }
   ],
   "source": [
    "# Cloning Lists\n",
    "\n",
    "x = [1,2,3,4,5]\n",
    "y=x\n",
    "print(x)\n",
    "print(y)"
   ]
  },
  {
   "cell_type": "code",
   "execution_count": 2,
   "id": "16022a0a",
   "metadata": {},
   "outputs": [
    {
     "name": "stdout",
     "output_type": "stream",
     "text": [
      "[1, 6, 3, 4, 5]\n",
      "[1, 6, 3, 4, 5]\n"
     ]
    }
   ],
   "source": [
    "x[1]=6\n",
    "print(x)\n",
    "print(y)"
   ]
  },
  {
   "cell_type": "code",
   "execution_count": 4,
   "id": "f53b7ea5",
   "metadata": {},
   "outputs": [
    {
     "name": "stdout",
     "output_type": "stream",
     "text": [
      "[1, 6, 3, 4, 5]\n",
      "[1, 6, 3, 4, 5]\n",
      "[1, 7, 3, 4, 5]\n",
      "[1, 6, 3, 4, 5]\n"
     ]
    }
   ],
   "source": [
    "y = x[:]\n",
    "print(x)\n",
    "print(y)\n",
    "x[1]=7\n",
    "print(x)\n",
    "print(y)"
   ]
  },
  {
   "cell_type": "code",
   "execution_count": 5,
   "id": "5650fa92",
   "metadata": {},
   "outputs": [
    {
     "name": "stdout",
     "output_type": "stream",
     "text": [
      "[1, 7, 3, 4, 5]\n",
      "[1, 7, 3, 4, 5]\n",
      "[1, 8, 3, 4, 5]\n",
      "[1, 7, 3, 4, 5]\n"
     ]
    }
   ],
   "source": [
    "y = x.copy()\n",
    "print(x)\n",
    "print(y)\n",
    "x[1]=8\n",
    "print(x)\n",
    "print(y)"
   ]
  },
  {
   "cell_type": "code",
   "execution_count": null,
   "id": "89edf7c9",
   "metadata": {},
   "outputs": [],
   "source": []
  }
 ],
 "metadata": {
  "kernelspec": {
   "display_name": "Python 3 (ipykernel)",
   "language": "python",
   "name": "python3"
  },
  "language_info": {
   "codemirror_mode": {
    "name": "ipython",
    "version": 3
   },
   "file_extension": ".py",
   "mimetype": "text/x-python",
   "name": "python",
   "nbconvert_exporter": "python",
   "pygments_lexer": "ipython3",
   "version": "3.9.7"
  }
 },
 "nbformat": 4,
 "nbformat_minor": 5
}
