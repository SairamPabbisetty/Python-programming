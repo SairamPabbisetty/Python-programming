{
 "cells": [
  {
   "cell_type": "code",
   "execution_count": 5,
   "id": "95d9bc14",
   "metadata": {},
   "outputs": [
    {
     "name": "stdout",
     "output_type": "stream",
     "text": [
      "14\n",
      "10\n"
     ]
    }
   ],
   "source": [
    "arr = [1,2,3,4,5]\n",
    "suma = []\n",
    "for i in range(len(arr)) :\n",
    "    sumb = sum(arr)-arr[i]\n",
    "    suma.append(sumb) \n",
    "print(max(suma)) \n",
    "print(min(suma))"
   ]
  },
  {
   "cell_type": "code",
   "execution_count": null,
   "id": "75c3cf74",
   "metadata": {},
   "outputs": [],
   "source": []
  }
 ],
 "metadata": {
  "kernelspec": {
   "display_name": "Python 3 (ipykernel)",
   "language": "python",
   "name": "python3"
  },
  "language_info": {
   "codemirror_mode": {
    "name": "ipython",
    "version": 3
   },
   "file_extension": ".py",
   "mimetype": "text/x-python",
   "name": "python",
   "nbconvert_exporter": "python",
   "pygments_lexer": "ipython3",
   "version": "3.9.7"
  }
 },
 "nbformat": 4,
 "nbformat_minor": 5
}
