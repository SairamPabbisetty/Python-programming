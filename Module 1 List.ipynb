{
 "cells": [
  {
   "cell_type": "code",
   "execution_count": 1,
   "id": "79810e39",
   "metadata": {},
   "outputs": [
    {
     "name": "stdout",
     "output_type": "stream",
     "text": [
      "Original list :  [1, 2, 3, 4, 1, 2, 6, 7]\n",
      "final list :  [1, 2, 3, 4, 6, 7]\n"
     ]
    }
   ],
   "source": [
    "# removing duplicate elements in the list\n",
    "\n",
    "listA = [1,2,3,4,1,2,6,7]\n",
    "\n",
    "listB = []\n",
    "\n",
    "for i in listA :\n",
    "    if i not in listB :\n",
    "        listB.append(i)\n",
    "        \n",
    "print(\"Original list : \",listA)\n",
    "print(\"final list : \",listB)"
   ]
  },
  {
   "cell_type": "code",
   "execution_count": 5,
   "id": "1a475ab9",
   "metadata": {},
   "outputs": [
    {
     "name": "stdout",
     "output_type": "stream",
     "text": [
      "[1, 2, 3, 4, 5, [6, 7, 8, 9, 10]]\n"
     ]
    }
   ],
   "source": [
    "# to append a list to the second list (1)\n",
    "\n",
    "listA = [1,2,3,4,5]\n",
    "listB = [6,7,8,9,10]\n",
    "\n",
    "listA.append(listB)\n",
    "print(listA)"
   ]
  },
  {
   "cell_type": "code",
   "execution_count": 6,
   "id": "db6a169f",
   "metadata": {},
   "outputs": [
    {
     "name": "stdout",
     "output_type": "stream",
     "text": [
      "[1, 2, 3, 4, 5, 6, 7, 8, 9, 10]\n"
     ]
    }
   ],
   "source": [
    "# to append a list to the second list (2)\n",
    "\n",
    "listA = [1,2,3,4,5]\n",
    "listB = [6,7,8,9,10]\n",
    "\n",
    "listA.extend(listB)\n",
    "print(listA)"
   ]
  },
  {
   "cell_type": "code",
   "execution_count": 7,
   "id": "f0425aab",
   "metadata": {},
   "outputs": [
    {
     "name": "stdout",
     "output_type": "stream",
     "text": [
      "Enter no.of elements in the list : 5\n",
      "Enter element : 1\n",
      "Enter element : 2\n",
      "Enter element : 3\n",
      "Enter element : 4\n",
      "Enter element : 5\n",
      "[5, 4, 3, 2, 1]\n"
     ]
    }
   ],
   "source": [
    "# display elements of the list in reverse order\n",
    "\n",
    "n = int(input(\"Enter no.of elements in the list : \"))\n",
    "\n",
    "alist = []\n",
    "\n",
    "for i in range(n):\n",
    "    ele = int(input(\"Enter element : \"))\n",
    "    alist.append(ele)\n",
    "    \n",
    "alist.reverse()\n",
    "\n",
    "print(alist)"
   ]
  },
  {
   "cell_type": "code",
   "execution_count": null,
   "id": "18608191",
   "metadata": {},
   "outputs": [],
   "source": []
  }
 ],
 "metadata": {
  "kernelspec": {
   "display_name": "Python 3 (ipykernel)",
   "language": "python",
   "name": "python3"
  },
  "language_info": {
   "codemirror_mode": {
    "name": "ipython",
    "version": 3
   },
   "file_extension": ".py",
   "mimetype": "text/x-python",
   "name": "python",
   "nbconvert_exporter": "python",
   "pygments_lexer": "ipython3",
   "version": "3.9.7"
  }
 },
 "nbformat": 4,
 "nbformat_minor": 5
}
