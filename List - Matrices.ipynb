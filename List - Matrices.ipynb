{
 "cells": [
  {
   "cell_type": "code",
   "execution_count": 6,
   "id": "16a820ec",
   "metadata": {},
   "outputs": [
    {
     "name": "stdout",
     "output_type": "stream",
     "text": [
      "10 10 10 \n",
      "10 10 10 \n",
      "10 10 10 \n"
     ]
    }
   ],
   "source": [
    "# Matrix addition\n",
    "\n",
    "mat1 = [[1,2,3],[4,5,6],[7,8,9]]\n",
    "mat2 = [[9,8,7],[6,5,4],[3,2,1]]\n",
    "mat3 = [3*[0] for i in range(3)]\n",
    "\n",
    "for i in range(len(mat1)) :\n",
    "    for j in range(len(mat1[0])) : \n",
    "        mat3[i][j] = mat1[i][j] + mat2[i][j]\n",
    "        \n",
    "for i in range(len(mat1)) :\n",
    "    for j in range(len(mat2)) :\n",
    "        print(mat3[i][j], end=' ')\n",
    "    print()"
   ]
  },
  {
   "cell_type": "code",
   "execution_count": 9,
   "id": "a7e1cfa1",
   "metadata": {},
   "outputs": [
    {
     "name": "stdout",
     "output_type": "stream",
     "text": [
      "30 24 18 \n",
      "84 69 54 \n",
      "138 114 90 \n"
     ]
    }
   ],
   "source": [
    "# Matrix multiplication\n",
    "\n",
    "mat1 = [[1,2,3],[4,5,6],[7,8,9]]\n",
    "mat2 = [[9,8,7],[6,5,4],[3,2,1]]\n",
    "mat4 = [3*[0] for i in range(3)]\n",
    "\n",
    "for i in range(len(mat1)) :\n",
    "    for j in range(len(mat1[0])) :\n",
    "        for k in range(len(mat2)) :\n",
    "            mat4[i][j] += mat1[i][k] * mat2[k][j]\n",
    "            \n",
    "for i in range(len(mat1)) :\n",
    "    for j in range(len(mat2)) :\n",
    "        print(mat4[i][j], end=' ')\n",
    "    print()"
   ]
  },
  {
   "cell_type": "code",
   "execution_count": null,
   "id": "ee7a6041",
   "metadata": {},
   "outputs": [],
   "source": []
  }
 ],
 "metadata": {
  "kernelspec": {
   "display_name": "Python 3 (ipykernel)",
   "language": "python",
   "name": "python3"
  },
  "language_info": {
   "codemirror_mode": {
    "name": "ipython",
    "version": 3
   },
   "file_extension": ".py",
   "mimetype": "text/x-python",
   "name": "python",
   "nbconvert_exporter": "python",
   "pygments_lexer": "ipython3",
   "version": "3.9.7"
  }
 },
 "nbformat": 4,
 "nbformat_minor": 5
}
