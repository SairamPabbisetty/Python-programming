{
 "cells": [
  {
   "cell_type": "code",
   "execution_count": 6,
   "id": "cf3b352b",
   "metadata": {},
   "outputs": [
    {
     "name": "stdout",
     "output_type": "stream",
     "text": [
      "1656771423.2928047\n",
      "time.struct_time(tm_year=2022, tm_mon=7, tm_mday=2, tm_hour=19, tm_min=47, tm_sec=3, tm_wday=5, tm_yday=183, tm_isdst=0)\n",
      "Sat Jul  2 19:47:03 2022\n"
     ]
    }
   ],
   "source": [
    "# epoch() starting of the current year\n",
    "# It indicates how many seconds are gone since the epoch\n",
    "\n",
    "import time\n",
    "\n",
    "epoch = time.time()\n",
    "print(epoch)\n",
    "dt = time.localtime(epoch) # localtime() converts the epoch time in to time_structure\n",
    "print(dt)\n",
    "t = time.ctime(epoch) # we can convert epoch time in to date and time using ctime()\n",
    "print(t)"
   ]
  },
  {
   "cell_type": "code",
   "execution_count": 7,
   "id": "41a1afab",
   "metadata": {},
   "outputs": [
    {
     "name": "stdout",
     "output_type": "stream",
     "text": [
      "Current date :- 2-7-2022\n",
      "Current time :- 19:55:4\n"
     ]
    }
   ],
   "source": [
    "# converting epoch time in to date and time\n",
    "\n",
    "import time\n",
    "\n",
    "epoch = time.time()\n",
    "t = time.localtime(epoch)\n",
    "\n",
    "d = t.tm_mday\n",
    "m = t.tm_mon\n",
    "y = t.tm_year\n",
    "print('Current date :- %d-%d-%d' %(d,m,y))\n",
    "\n",
    "h = t.tm_hour\n",
    "m = t.tm_min\n",
    "s = t.tm_sec\n",
    "print('Current time :- %d:%d:%d' %(h,m,s))"
   ]
  },
  {
   "cell_type": "code",
   "execution_count": 8,
   "id": "72490afa",
   "metadata": {},
   "outputs": [
    {
     "name": "stdout",
     "output_type": "stream",
     "text": [
      "Sat Jul  2 19:58:31 2022\n"
     ]
    }
   ],
   "source": [
    "# Finding current time with ctime() with out epoch()\n",
    "\n",
    "import time\n",
    "\n",
    "t = time.ctime()\n",
    "print(t)"
   ]
  },
  {
   "cell_type": "code",
   "execution_count": 12,
   "id": "0e46472f",
   "metadata": {},
   "outputs": [
    {
     "name": "stdout",
     "output_type": "stream",
     "text": [
      "2022-07-02 20:03:44.339853\n",
      "Date :- 2/7/2022\n",
      "Time :- 20:3:44\n"
     ]
    }
   ],
   "source": [
    "# Finding current time with now()\n",
    "\n",
    "from datetime import *\n",
    "\n",
    "a = datetime.now() # now() returns date and time\n",
    "print(a)\n",
    "\n",
    "print('Date :- {}/{}/{}'.format(a.day, a.month, a.year))\n",
    "print('Time :- {}:{}:{}'.format(a.hour, a.minute, a.second))"
   ]
  },
  {
   "cell_type": "code",
   "execution_count": 14,
   "id": "ccd2b3c5",
   "metadata": {},
   "outputs": [
    {
     "name": "stdout",
     "output_type": "stream",
     "text": [
      "Current date and time :-  2022-07-02 20:13:54.675229\n",
      "Current date :-  2022-07-02\n"
     ]
    }
   ],
   "source": [
    "# Finding date and time using today()\n",
    "\n",
    "from datetime import *\n",
    "\n",
    "dt = datetime.today()\n",
    "print('Current date and time :- ',dt)\n",
    "date = date.today()\n",
    "print('Current date :- ',date)"
   ]
  },
  {
   "cell_type": "code",
   "execution_count": 17,
   "id": "282732e5",
   "metadata": {},
   "outputs": [
    {
     "name": "stdout",
     "output_type": "stream",
     "text": [
      "2022-07-02 08:23:00\n"
     ]
    }
   ],
   "source": [
    "# Combining date and time\n",
    "\n",
    "from datetime import *\n",
    "\n",
    "d = date(2022, 7, 2) # order of date is specified\n",
    "t = time(8, 23)\n",
    "dt = datetime.combine(d,t)\n",
    "print(dt)"
   ]
  },
  {
   "cell_type": "code",
   "execution_count": null,
   "id": "9e91ef1b",
   "metadata": {},
   "outputs": [],
   "source": []
  }
 ],
 "metadata": {
  "kernelspec": {
   "display_name": "Python 3 (ipykernel)",
   "language": "python",
   "name": "python3"
  },
  "language_info": {
   "codemirror_mode": {
    "name": "ipython",
    "version": 3
   },
   "file_extension": ".py",
   "mimetype": "text/x-python",
   "name": "python",
   "nbconvert_exporter": "python",
   "pygments_lexer": "ipython3",
   "version": "3.9.7"
  }
 },
 "nbformat": 4,
 "nbformat_minor": 5
}
