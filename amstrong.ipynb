{
 "cells": [
  {
   "cell_type": "code",
   "execution_count": 3,
   "id": "804cfce8",
   "metadata": {},
   "outputs": [
    {
     "name": "stdout",
     "output_type": "stream",
     "text": [
      "Enter a number : 153\n",
      "amstrong\n"
     ]
    }
   ],
   "source": [
    "# amstrong\n",
    "\n",
    "n = int(input(\"Enter a number : \"))\n",
    "l = len(str(n))\n",
    "temp = n\n",
    "sum = 0\n",
    "while(temp>0) :\n",
    "    rem = temp%10\n",
    "    sum += rem**l\n",
    "    temp = temp//10\n",
    "if(sum==n) :\n",
    "    print(\"amstrong\")\n",
    "else :\n",
    "    print(\"not amstrong\")"
   ]
  },
  {
   "cell_type": "code",
   "execution_count": null,
   "id": "c7e0eb5c",
   "metadata": {},
   "outputs": [],
   "source": []
  }
 ],
 "metadata": {
  "kernelspec": {
   "display_name": "Python 3 (ipykernel)",
   "language": "python",
   "name": "python3"
  },
  "language_info": {
   "codemirror_mode": {
    "name": "ipython",
    "version": 3
   },
   "file_extension": ".py",
   "mimetype": "text/x-python",
   "name": "python",
   "nbconvert_exporter": "python",
   "pygments_lexer": "ipython3",
   "version": "3.9.7"
  }
 },
 "nbformat": 4,
 "nbformat_minor": 5
}
