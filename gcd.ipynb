{
 "cells": [
  {
   "cell_type": "code",
   "execution_count": 2,
   "id": "6418fe8d",
   "metadata": {},
   "outputs": [
    {
     "data": {
      "text/plain": [
       "4"
      ]
     },
     "execution_count": 2,
     "metadata": {},
     "output_type": "execute_result"
    }
   ],
   "source": [
    "#GCD\n",
    "\n",
    "def gcd(x, y) :\n",
    "    if y==0 :\n",
    "        return x\n",
    "    else :\n",
    "        return gcd(y, x%y)\n",
    "    \n",
    "x = 12\n",
    "y = 16\n",
    "gcd(x, y)"
   ]
  },
  {
   "cell_type": "code",
   "execution_count": null,
   "id": "74f03644",
   "metadata": {},
   "outputs": [],
   "source": []
  }
 ],
 "metadata": {
  "kernelspec": {
   "display_name": "Python 3 (ipykernel)",
   "language": "python",
   "name": "python3"
  },
  "language_info": {
   "codemirror_mode": {
    "name": "ipython",
    "version": 3
   },
   "file_extension": ".py",
   "mimetype": "text/x-python",
   "name": "python",
   "nbconvert_exporter": "python",
   "pygments_lexer": "ipython3",
   "version": "3.9.7"
  }
 },
 "nbformat": 4,
 "nbformat_minor": 5
}
