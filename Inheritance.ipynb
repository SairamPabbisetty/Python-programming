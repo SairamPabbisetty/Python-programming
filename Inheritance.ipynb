{
 "cells": [
  {
   "cell_type": "code",
   "execution_count": 1,
   "id": "7a3e0fc3",
   "metadata": {},
   "outputs": [
    {
     "name": "stdout",
     "output_type": "stream",
     "text": [
      "base class\n",
      "sub class\n"
     ]
    }
   ],
   "source": [
    "class base :\n",
    "    def display(self) :\n",
    "        print('base class')\n",
    "class sub(base) :\n",
    "    def display(self) :\n",
    "        print('sub class')\n",
    "b = base()\n",
    "b.display()\n",
    "d = sub()\n",
    "d.display()"
   ]
  },
  {
   "cell_type": "code",
   "execution_count": 2,
   "id": "79c01947",
   "metadata": {},
   "outputs": [
    {
     "name": "stdout",
     "output_type": "stream",
     "text": [
      "base class\n",
      "base class\n",
      "sub class\n"
     ]
    }
   ],
   "source": [
    "class base :\n",
    "    def display(self) :\n",
    "        print('base class')\n",
    "class sub(base) :\n",
    "    def display1(self) :\n",
    "        print('sub class')\n",
    "b = base()\n",
    "b.display()\n",
    "d = sub()\n",
    "d.display()\n",
    "d.display1()"
   ]
  },
  {
   "cell_type": "code",
   "execution_count": null,
   "id": "3f2a112e",
   "metadata": {},
   "outputs": [],
   "source": []
  }
 ],
 "metadata": {
  "kernelspec": {
   "display_name": "Python 3 (ipykernel)",
   "language": "python",
   "name": "python3"
  },
  "language_info": {
   "codemirror_mode": {
    "name": "ipython",
    "version": 3
   },
   "file_extension": ".py",
   "mimetype": "text/x-python",
   "name": "python",
   "nbconvert_exporter": "python",
   "pygments_lexer": "ipython3",
   "version": "3.9.7"
  }
 },
 "nbformat": 4,
 "nbformat_minor": 5
}
