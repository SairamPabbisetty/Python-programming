{
 "cells": [
  {
   "cell_type": "code",
   "execution_count": 1,
   "id": "c255921f",
   "metadata": {},
   "outputs": [
    {
     "name": "stdout",
     "output_type": "stream",
     "text": [
      "Accessing variables through method : \n",
      "1\n",
      "2\n",
      "Accessing variables through instance : \n",
      "1\n",
      "2\n"
     ]
    }
   ],
   "source": [
    "# public and private variables\n",
    "class Myclass :\n",
    "    def __init__(self) : # Constructor\n",
    "        self.x = 1 # public variable\n",
    "        self.__y = 2 # private variable\n",
    "        \n",
    "    def display(self) : # Instance method to access variables\n",
    "        print(self.x)\n",
    "        print(self._Myclass__y)\n",
    "        \n",
    "print(\"Accessing variables through method : \")\n",
    "m = Myclass()\n",
    "m.display()\n",
    "\n",
    "print(\"Accessing variables through instance : \")\n",
    "print(m.x)\n",
    "print(m._Myclass__y)"
   ]
  },
  {
   "cell_type": "code",
   "execution_count": 6,
   "id": "7e6a86f5",
   "metadata": {},
   "outputs": [
    {
     "name": "stdout",
     "output_type": "stream",
     "text": [
      "10\n",
      "abc\n",
      "5000.0\n",
      "1500000.0\n",
      "1500000.0\n"
     ]
    }
   ],
   "source": [
    "class Bank :\n",
    "    def __init__(self) :\n",
    "        self.accno = 10\n",
    "        self.name = 'abc'\n",
    "        self.bal = 5000.00\n",
    "        self.__loan = 1500000.00\n",
    "    \n",
    "    def disp_clerk(self) :\n",
    "        print(self.accno)\n",
    "        print(self.name)\n",
    "        print(self.bal)\n",
    "        print(self.__loan)\n",
    "        print(self._Bank__loan)\n",
    "        \n",
    "b = Bank()\n",
    "b.disp_clerk()"
   ]
  },
  {
   "cell_type": "code",
   "execution_count": null,
   "id": "71f507da",
   "metadata": {},
   "outputs": [],
   "source": []
  }
 ],
 "metadata": {
  "kernelspec": {
   "display_name": "Python 3 (ipykernel)",
   "language": "python",
   "name": "python3"
  },
  "language_info": {
   "codemirror_mode": {
    "name": "ipython",
    "version": 3
   },
   "file_extension": ".py",
   "mimetype": "text/x-python",
   "name": "python",
   "nbconvert_exporter": "python",
   "pygments_lexer": "ipython3",
   "version": "3.9.7"
  }
 },
 "nbformat": 4,
 "nbformat_minor": 5
}
