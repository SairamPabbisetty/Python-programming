{
 "cells": [
  {
   "cell_type": "code",
   "execution_count": 1,
   "id": "97f196aa",
   "metadata": {},
   "outputs": [
    {
     "name": "stdout",
     "output_type": "stream",
     "text": [
      "Enter min and max ranges : 11,20\n",
      "12\n",
      "14\n",
      "16\n",
      "18\n",
      "20\n"
     ]
    }
   ],
   "source": [
    "# To display even numbers between m and n\n",
    "\n",
    "m,n=[int(i) for i in input(\"Enter min and max ranges : \").split(',')] # m is min and n is max\n",
    "\n",
    "x=m\n",
    "\n",
    "if (x % 2 != 0) :\n",
    "    x=x+1\n",
    "    \n",
    "while (x>=m and x<=n) :\n",
    "    print(x)\n",
    "    x+=2"
   ]
  },
  {
   "cell_type": "code",
   "execution_count": 2,
   "id": "5592cf20",
   "metadata": {},
   "outputs": [
    {
     "name": "stdout",
     "output_type": "stream",
     "text": [
      "Enter min value : 11\n",
      "Enter max value : 20\n",
      "12\n",
      "14\n",
      "16\n",
      "18\n",
      "20\n"
     ]
    }
   ],
   "source": [
    "# To display even numbers between m and n\n",
    "\n",
    "m=int(input(\"Enter min value : \"))\n",
    "n=int(input(\"Enter max value : \"))\n",
    "\n",
    "x=m\n",
    "\n",
    "if (x % 2 != 0) :\n",
    "    x=x+1\n",
    "    \n",
    "while (x>=m and x<=n) :\n",
    "    print(x)\n",
    "    x+=2"
   ]
  },
  {
   "cell_type": "code",
   "execution_count": null,
   "id": "c0480d29",
   "metadata": {},
   "outputs": [],
   "source": []
  }
 ],
 "metadata": {
  "kernelspec": {
   "display_name": "Python 3 (ipykernel)",
   "language": "python",
   "name": "python3"
  },
  "language_info": {
   "codemirror_mode": {
    "name": "ipython",
    "version": 3
   },
   "file_extension": ".py",
   "mimetype": "text/x-python",
   "name": "python",
   "nbconvert_exporter": "python",
   "pygments_lexer": "ipython3",
   "version": "3.9.7"
  }
 },
 "nbformat": 4,
 "nbformat_minor": 5
}
