{
 "cells": [
  {
   "cell_type": "code",
   "execution_count": 5,
   "id": "6d6278cd",
   "metadata": {},
   "outputs": [
    {
     "name": "stdout",
     "output_type": "stream",
     "text": [
      "How many elements ? 2\n",
      "Enter element : 1\n",
      "Enter element : 2\n",
      "The list is  [1, 2]\n",
      "Enter element to count 1\n",
      "1 is found 1 times\n"
     ]
    }
   ],
   "source": [
    "# Counting how many times an element occured in the list\n",
    "\n",
    "x =[]\n",
    "\n",
    "n = int(input('How many elements ? '))\n",
    "\n",
    "for i in range(n):\n",
    "    print('Enter element : ',end='')\n",
    "    x.append(int(input()))\n",
    "    \n",
    "print('The list is ',x)\n",
    "\n",
    "y = int(input('Enter element to count '))\n",
    "\n",
    "c=0\n",
    "\n",
    "for i in x:\n",
    "    if(y==i):\n",
    "        c=c+1\n",
    "\n",
    "print('{} is found {} times'.format(y, c))"
   ]
  },
  {
   "cell_type": "code",
   "execution_count": null,
   "id": "8962f5a7",
   "metadata": {},
   "outputs": [],
   "source": []
  }
 ],
 "metadata": {
  "kernelspec": {
   "display_name": "Python 3 (ipykernel)",
   "language": "python",
   "name": "python3"
  },
  "language_info": {
   "codemirror_mode": {
    "name": "ipython",
    "version": 3
   },
   "file_extension": ".py",
   "mimetype": "text/x-python",
   "name": "python",
   "nbconvert_exporter": "python",
   "pygments_lexer": "ipython3",
   "version": "3.9.7"
  }
 },
 "nbformat": 4,
 "nbformat_minor": 5
}
