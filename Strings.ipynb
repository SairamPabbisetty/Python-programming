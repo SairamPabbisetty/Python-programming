{
 "cells": [
  {
   "cell_type": "code",
   "execution_count": 1,
   "id": "4c041aae",
   "metadata": {},
   "outputs": [
    {
     "name": "stdout",
     "output_type": "stream",
     "text": [
      "Python Programming\n",
      "gnimmargorP nohtyP"
     ]
    }
   ],
   "source": [
    "# Accessing elements in a string in forward and backwrard direction\n",
    "\n",
    "str = 'Python Programming'\n",
    "\n",
    "for i in str :\n",
    "    print(i,end='')  # accessing in forward direction\n",
    "print()\n",
    "for i in str[::-1] :\n",
    "    print(i,end='')  # accessing in reverse direction"
   ]
  },
  {
   "cell_type": "code",
   "execution_count": 2,
   "id": "ff84c3c9",
   "metadata": {},
   "outputs": [
    {
     "name": "stdout",
     "output_type": "stream",
     "text": [
      "Python ProgrammingPython Programming\n"
     ]
    }
   ],
   "source": [
    "print(str*2)"
   ]
  },
  {
   "cell_type": "code",
   "execution_count": 3,
   "id": "b74ef047",
   "metadata": {},
   "outputs": [
    {
     "name": "stdout",
     "output_type": "stream",
     "text": [
      "on Pron Pr\n"
     ]
    }
   ],
   "source": [
    "print(str[4:9]*2)"
   ]
  },
  {
   "cell_type": "code",
   "execution_count": 4,
   "id": "1cc61ed8",
   "metadata": {},
   "outputs": [
    {
     "name": "stdout",
     "output_type": "stream",
     "text": [
      "thonthonthon\n"
     ]
    }
   ],
   "source": [
    "print(str[2:6]*3)"
   ]
  },
  {
   "cell_type": "code",
   "execution_count": 5,
   "id": "e609644a",
   "metadata": {},
   "outputs": [
    {
     "name": "stdout",
     "output_type": "stream",
     "text": [
      "PythonProgramming\n"
     ]
    }
   ],
   "source": [
    "# String Concatenation\n",
    "\n",
    "s1 = 'Python'\n",
    "s2 = 'Programming'\n",
    "s3 = s1+s2\n",
    "print(s3)"
   ]
  },
  {
   "cell_type": "code",
   "execution_count": 8,
   "id": "bb72a14f",
   "metadata": {},
   "outputs": [
    {
     "name": "stdout",
     "output_type": "stream",
     "text": [
      "Python Programming\n"
     ]
    }
   ],
   "source": [
    "s4 = [s1,s2]\n",
    "s5 = ' '.join(s4)\n",
    "print(s5)"
   ]
  },
  {
   "cell_type": "code",
   "execution_count": 10,
   "id": "cd910210",
   "metadata": {},
   "outputs": [
    {
     "name": "stdout",
     "output_type": "stream",
     "text": [
      "Python is found in Python Programming\n"
     ]
    }
   ],
   "source": [
    "sub = 'Python'\n",
    "\n",
    "if sub in str :\n",
    "    print(sub+ ' is found in ' +str)"
   ]
  },
  {
   "cell_type": "code",
   "execution_count": 11,
   "id": "0454eecd",
   "metadata": {},
   "outputs": [
    {
     "name": "stdout",
     "output_type": "stream",
     "text": [
      "python is not found in Python Programming\n"
     ]
    }
   ],
   "source": [
    "sub = 'python'\n",
    "\n",
    "if sub in str :\n",
    "    print(sub+ ' is found in ' +str)\n",
    "else :\n",
    "    print(sub+ ' is not found in ' +str)"
   ]
  },
  {
   "cell_type": "code",
   "execution_count": 12,
   "id": "3d509c7a",
   "metadata": {},
   "outputs": [
    {
     "name": "stdout",
     "output_type": "stream",
     "text": [
      "python is not found in Python Programming\n"
     ]
    }
   ],
   "source": [
    "sub = 'python'\n",
    "\n",
    "if sub  not in str :\n",
    "    print(sub+ ' is not found in ' +str)\n",
    "else :\n",
    "    print(sub+ ' is found in ' +str)"
   ]
  },
  {
   "cell_type": "code",
   "execution_count": 15,
   "id": "c17479e7",
   "metadata": {},
   "outputs": [
    {
     "name": "stdout",
     "output_type": "stream",
     "text": [
      "PYTHON PROGRAMMING\n",
      "python programming\n",
      "pYTHON pROGRAMMING\n",
      "Python Programming\n",
      "Python Programming\n"
     ]
    }
   ],
   "source": [
    "import string\n",
    "\n",
    "print(str.upper())\n",
    "print(str.lower())\n",
    "print(str.swapcase())\n",
    "print(str.title())\n",
    "\n",
    "print(string.capwords(str))"
   ]
  },
  {
   "cell_type": "code",
   "execution_count": 18,
   "id": "1fba556d",
   "metadata": {},
   "outputs": [
    {
     "name": "stdout",
     "output_type": "stream",
     "text": [
      "True\n",
      "False\n",
      "False\n",
      "True\n"
     ]
    }
   ],
   "source": [
    "# Checking starting and ending of a string\n",
    "\n",
    "print(str.startswith('Python'))\n",
    "print(str.startswith('p'))\n",
    "print(str.endswith('inG'))\n",
    "print(str.endswith('g'))"
   ]
  },
  {
   "cell_type": "code",
   "execution_count": null,
   "id": "cdbe5e73",
   "metadata": {},
   "outputs": [],
   "source": []
  }
 ],
 "metadata": {
  "kernelspec": {
   "display_name": "Python 3 (ipykernel)",
   "language": "python",
   "name": "python3"
  },
  "language_info": {
   "codemirror_mode": {
    "name": "ipython",
    "version": 3
   },
   "file_extension": ".py",
   "mimetype": "text/x-python",
   "name": "python",
   "nbconvert_exporter": "python",
   "pygments_lexer": "ipython3",
   "version": "3.9.7"
  }
 },
 "nbformat": 4,
 "nbformat_minor": 5
}
