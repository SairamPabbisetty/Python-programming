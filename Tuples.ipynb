{
 "cells": [
  {
   "cell_type": "code",
   "execution_count": 2,
   "id": "eb08064d",
   "metadata": {},
   "outputs": [
    {
     "name": "stdout",
     "output_type": "stream",
     "text": [
      "Enter elements in the tuple() : 1,2,3,4,5\n",
      "Sum of numbers is  15\n",
      "Average of numbers is  3.0\n"
     ]
    }
   ],
   "source": [
    " # Find sum and avg of elements in a tuple\n",
    "    \n",
    "num = eval(input(\"Enter elements in the tuple() : \"))\n",
    "\n",
    "sum=0\n",
    "\n",
    "for i in range(len(num)) :\n",
    "    sum+=num[i]\n",
    "    \n",
    "print(\"Sum of numbers is \",sum)\n",
    "print(\"Average of numbers is \",sum/len(num))"
   ]
  },
  {
   "cell_type": "code",
   "execution_count": null,
   "id": "091858bc",
   "metadata": {},
   "outputs": [],
   "source": []
  }
 ],
 "metadata": {
  "kernelspec": {
   "display_name": "Python 3 (ipykernel)",
   "language": "python",
   "name": "python3"
  },
  "language_info": {
   "codemirror_mode": {
    "name": "ipython",
    "version": 3
   },
   "file_extension": ".py",
   "mimetype": "text/x-python",
   "name": "python",
   "nbconvert_exporter": "python",
   "pygments_lexer": "ipython3",
   "version": "3.9.7"
  }
 },
 "nbformat": 4,
 "nbformat_minor": 5
}
