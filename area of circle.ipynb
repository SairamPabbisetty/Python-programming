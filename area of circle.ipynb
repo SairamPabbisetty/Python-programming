{
 "cells": [
  {
   "cell_type": "code",
   "execution_count": 2,
   "id": "b9d7481b",
   "metadata": {},
   "outputs": [
    {
     "name": "stdout",
     "output_type": "stream",
     "text": [
      "Enter the radius of the circle : 15.5\n",
      "Area of the circle is  754.385\n"
     ]
    }
   ],
   "source": [
    "# area of circle\n",
    "\n",
    "r=float(input(\"Enter the radius of the circle : \"))\n",
    "area = 3.14*r**2\n",
    "print(\"Area of the circle is \",area)"
   ]
  },
  {
   "cell_type": "code",
   "execution_count": 8,
   "id": "6552035f",
   "metadata": {},
   "outputs": [
    {
     "name": "stdout",
     "output_type": "stream",
     "text": [
      "Enter the radius of the circle : 15.5\n",
      "Area of the circle is  754.7676350249478\n",
      "Area of the circle is 754.77\n"
     ]
    }
   ],
   "source": [
    "# area of circle\n",
    "\n",
    "import math\n",
    "r=float(input(\"Enter the radius of the circle : \"))\n",
    "area = math.pi*r**2\n",
    "print(\"Area of the circle is \",area)\n",
    "print(\"Area of the circle is {:0.2f}\".format(area))"
   ]
  },
  {
   "cell_type": "code",
   "execution_count": null,
   "id": "87f17dfc",
   "metadata": {},
   "outputs": [],
   "source": []
  }
 ],
 "metadata": {
  "kernelspec": {
   "display_name": "Python 3 (ipykernel)",
   "language": "python",
   "name": "python3"
  },
  "language_info": {
   "codemirror_mode": {
    "name": "ipython",
    "version": 3
   },
   "file_extension": ".py",
   "mimetype": "text/x-python",
   "name": "python",
   "nbconvert_exporter": "python",
   "pygments_lexer": "ipython3",
   "version": "3.9.7"
  }
 },
 "nbformat": 4,
 "nbformat_minor": 5
}
