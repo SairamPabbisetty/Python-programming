{
 "cells": [
  {
   "cell_type": "code",
   "execution_count": 1,
   "id": "f040611d",
   "metadata": {},
   "outputs": [
    {
     "name": "stdout",
     "output_type": "stream",
     "text": [
      "In try block\n",
      "Enter two numbers : 10 2\n",
      "a divided by b equals :  5.0\n",
      "In finally block\n"
     ]
    }
   ],
   "source": [
    "try :\n",
    "    print(\"In try block\")\n",
    "    a, b = [int(x) for x in input(\"Enter two numbers : \").split()]\n",
    "    c = a/b\n",
    "    print(\"a divided by b equals : \",c)\n",
    "except :\n",
    "    print(\"In excpet block\")\n",
    "    print(\"It is a zero divide error\")\n",
    "finally :\n",
    "    print(\"In finally block\")"
   ]
  },
  {
   "cell_type": "code",
   "execution_count": 2,
   "id": "551a2535",
   "metadata": {},
   "outputs": [
    {
     "name": "stdout",
     "output_type": "stream",
     "text": [
      "In try block\n",
      "Enter two numbers : 2 0\n",
      "In excpet block\n",
      "It is a zero divide error\n",
      "In finally block\n"
     ]
    }
   ],
   "source": [
    "try :\n",
    "    print(\"In try block\")\n",
    "    a, b = [int(x) for x in input(\"Enter two numbers : \").split()]\n",
    "    c = a/b\n",
    "    print(\"a divided by b equals : \",c)\n",
    "except :\n",
    "    print(\"In excpet block\")\n",
    "    print(\"It is a zero divide error\")\n",
    "finally :\n",
    "    print(\"In finally block\")"
   ]
  },
  {
   "cell_type": "code",
   "execution_count": 16,
   "id": "171b2298",
   "metadata": {},
   "outputs": [
    {
     "name": "stdout",
     "output_type": "stream",
     "text": [
      "2\n",
      "Name is not defined\n",
      "In finally block\n"
     ]
    }
   ],
   "source": [
    "try :\n",
    "    lista = [1,2,3,4,5]\n",
    "    print(lista[1])\n",
    "    print(listb[2])\n",
    "    print(lista[10])\n",
    "except IndexError :\n",
    "    print(\"Index out of range\")\n",
    "except NameError:\n",
    "    print(\"Name is not defined\")\n",
    "finally :\n",
    "    print(\"In finally block\")"
   ]
  },
  {
   "cell_type": "code",
   "execution_count": 15,
   "id": "06c6489f",
   "metadata": {},
   "outputs": [
    {
     "name": "stdout",
     "output_type": "stream",
     "text": [
      "2\n",
      "Index out of range\n",
      "In finally block\n"
     ]
    }
   ],
   "source": [
    "try :\n",
    "    lista = [1,2,3,4,5]\n",
    "    print(lista[1])\n",
    "    # print(listb[2])\n",
    "    print(lista[10])\n",
    "except IndexError :\n",
    "    print(\"Index out of range\")\n",
    "except NameError:\n",
    "    print(\"Name is not defined\")\n",
    "finally :\n",
    "    print(\"In finally block\")"
   ]
  },
  {
   "cell_type": "code",
   "execution_count": 14,
   "id": "493c0573",
   "metadata": {},
   "outputs": [
    {
     "name": "stdout",
     "output_type": "stream",
     "text": [
      "2\n",
      "Name is not defined\n",
      "In finally block\n"
     ]
    }
   ],
   "source": [
    "try :\n",
    "    lista = [1,2,3,4,5]\n",
    "    print(lista[1])\n",
    "    print(listb[2])\n",
    "    # print(lista[10])\n",
    "except IndexError :\n",
    "    print(\"Index out of range\")\n",
    "except NameError:\n",
    "    print(\"Name is not defined\")\n",
    "finally :\n",
    "    print(\"In finally block\")"
   ]
  },
  {
   "cell_type": "code",
   "execution_count": 23,
   "id": "61be2924",
   "metadata": {},
   "outputs": [
    {
     "name": "stdout",
     "output_type": "stream",
     "text": [
      "Enter date : 2022,07,25\n",
      "Invalid entry\n"
     ]
    }
   ],
   "source": [
    "# date evaluation - syntax error\n",
    "try :\n",
    "    date = eval(input(\"Enter date : \"))\n",
    "except SyntaxError :\n",
    "    print(\"Invalid entry\")\n",
    "else :\n",
    "    print(\"You entered : \",date)"
   ]
  },
  {
   "cell_type": "code",
   "execution_count": null,
   "id": "6a6acc53",
   "metadata": {},
   "outputs": [],
   "source": []
  }
 ],
 "metadata": {
  "kernelspec": {
   "display_name": "Python 3 (ipykernel)",
   "language": "python",
   "name": "python3"
  },
  "language_info": {
   "codemirror_mode": {
    "name": "ipython",
    "version": 3
   },
   "file_extension": ".py",
   "mimetype": "text/x-python",
   "name": "python",
   "nbconvert_exporter": "python",
   "pygments_lexer": "ipython3",
   "version": "3.9.7"
  }
 },
 "nbformat": 4,
 "nbformat_minor": 5
}
